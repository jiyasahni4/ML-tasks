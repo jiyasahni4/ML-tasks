{
  "cells": [
    {
      "cell_type": "code",
      "execution_count": 59,
      "metadata": {
        "id": "7QTtL6heyMRP"
      },
      "outputs": [],
      "source": [
        "import numpy as np\n",
        "from scipy.stats import norm\n",
        "from scipy.optimize import minimize\n",
        "import matplotlib.pyplot as plt"
      ]
    },
    {
      "cell_type": "code",
      "execution_count": 60,
      "metadata": {
        "id": "JtiSoHYFp8Px"
      },
      "outputs": [],
      "source": [
        "# Generate two-mode distribution\n",
        "np.random.seed(0)\n",
        "\n",
        "#2 linear gaussian distributions\n",
        "data = np.concatenate([np.random.normal(loc=1, scale=2, size=1000),\n",
        "                       np.random.normal(loc=2, scale=0.5, size=1000)])   \n",
        "\n",
        "# Define the two-mode distribution as a mixture of two Gaussians\n",
        "def two_mode_distribution(x):\n",
        "    return 0.55 * norm.pdf(x, loc=1, scale=2) + 0.45 * norm.pdf(x, loc=2, scale=0.5)"
      ]
    },
    {
      "attachments": {},
      "cell_type": "markdown",
      "metadata": {
        "id": "xQDVlgvFqZxs"
      },
      "source": [
        "Firstly, we have defined 2 linear gaussian distributions with mean (loc) as 1 and 2 and standard deviation (scale) as 2 and 0.5, respectively.\n",
        "\n",
        "The two_mode_distribution function uses a linear combination of these two distributions to develop a two mode distribution with their proportions being 0.55 and 0.45 respectively.It takes x as input and returns the probability density at that point according to the two-mode distribution.\n",
        "\n",
        "The norm.pdf function is used to calculate the probability density at a value x, when the loc and scale have been given."
      ]
    },
    {
      "cell_type": "code",
      "execution_count": 61,
      "metadata": {
        "id": "ND_YLlLpp8Um"
      },
      "outputs": [],
      "source": [
        "# Defining the Forward KL-divergence function\n",
        "def forward_kl(par):\n",
        "    mu, sigma = par\n",
        "    a = norm(loc=mu, scale=sigma)\n",
        "    return np.mean(np.log(a.pdf(data) / two_mode_distribution(data)))"
      ]
    },
    {
      "cell_type": "code",
      "execution_count": 62,
      "metadata": {
        "id": "AuuwFbkts-OZ"
      },
      "outputs": [],
      "source": [
        "# Defining the Reverse KL-divergence function\n",
        "def reverse_kl(par):\n",
        "    mu, sigma = par\n",
        "    b = norm(loc=mu, scale=sigma)\n",
        "    return np.mean(np.log(two_mode_distribution(data) / b.pdf(data)))"
      ]
    },
    {
      "attachments": {},
      "cell_type": "markdown",
      "metadata": {
        "id": "wAWQwIhpsxfp"
      },
      "source": [
        "These two functions define the forward and the reverse kl divergence between the two mode distribution and the normal doistribution.\n",
        "\n",
        "Par is a tuple representing the values of the mean (mu) and standard deviation (sigma) of the normal distribution"
      ]
    },
    {
      "cell_type": "code",
      "execution_count": 63,
      "metadata": {
        "id": "RAuEeWWptygz"
      },
      "outputs": [],
      "source": [
        "# Initial parameter values for optimization\n",
        "mu=0\n",
        "sigma=1\n",
        "initial_par= [mu, sigma]"
      ]
    },
    {
      "cell_type": "code",
      "execution_count": 64,
      "metadata": {
        "colab": {
          "base_uri": "https://localhost:8080/"
        },
        "id": "V9vRna2wuCt7",
        "outputId": "7e26bc77-6974-40f0-a520-afbab8665451"
      },
      "outputs": [
        {
          "name": "stderr",
          "output_type": "stream",
          "text": [
            "<ipython-input-61-b4f1c6985384>:5: RuntimeWarning: divide by zero encountered in log\n",
            "  return np.mean(np.log(a.pdf(data) / two_mode_distribution(data)))\n"
          ]
        },
        {
          "name": "stdout",
          "output_type": "stream",
          "text": [
            "Forward KL Divergence:\n",
            "Estimated mean: 0.0006093750000000004\n",
            "Estimated standard deviation: 0.1374999999999975\n",
            "\n",
            "Reverse KL Divergence:\n",
            "Estimated mean: 1.4581120498058842\n",
            "Estimated standard deviation: 1.5383803870375607\n"
          ]
        }
      ],
      "source": [
        "# Fit using Forward KL divergence\n",
        "forward_result = minimize(forward_kl, initial_par, method='Nelder-Mead')\n",
        "forward_mu, forward_sigma = forward_result.x\n",
        "\n",
        "# Fit using Reverse KL divergence\n",
        "reverse_result = minimize(reverse_kl, initial_par, method='Nelder-Mead')\n",
        "reverse_mu, reverse_sigma = reverse_result.x\n",
        "\n",
        "print(\"Forward KL Divergence:\")\n",
        "print(\"Estimated mean:\", forward_mu)\n",
        "print(\"Estimated standard deviation:\", forward_sigma)\n",
        "print()\n",
        "print(\"Reverse KL Divergence:\")\n",
        "print(\"Estimated mean:\", reverse_mu)\n",
        "print(\"Estimated standard deviation:\", reverse_sigma)"
      ]
    },
    {
      "attachments": {},
      "cell_type": "markdown",
      "metadata": {
        "id": "PfLGt7pfuGoB"
      },
      "source": [
        "To find the values of optimal parameters that minimize the KL divergence,we have used the minimize function (scipy.optimize library) in both forward and reverse kl divergence. Nelder-Mead is a very frequently used optimization algorithm for finding the minimum of a function. "
      ]
    },
    {
      "cell_type": "code",
      "execution_count": 65,
      "metadata": {
        "id": "42H-PCW6uCxS"
      },
      "outputs": [],
      "source": [
        "# Arrays initialized to contain to the values of kl divergence, each value has been set to zero for now and will change as we iterate\n",
        "forward_kl_divergence = np.zeros(100)\n",
        "reverse_kl_divergence = np.zeros(100)\n",
        "\n",
        "# Fitting process\n",
        "for i in range(100):\n",
        "    # Calculate the KL divergence between the two-mode distribution and the normal distribution\n",
        "    # x= range of values for whichthe distribution will be evaluated\n",
        "    x = np.linspace(-6, 7, 1000)\n",
        "\n",
        "    # Probability distribution for two mode distribution\n",
        "    p_true = two_mode_distribution(x)\n",
        "\n",
        "    # Probability distribution for normal distribution\n",
        "    p_approx = norm.pdf(x, loc=mu, scale=sigma)\n",
        "\n",
        "    # Forward and reverse kl divergence\n",
        "    forward_kl_divergence[i] = np.sum(p_true * np.log(p_true / p_approx))\n",
        "    reverse_kl_divergence[i] = np.sum(p_approx * np.log(p_approx / p_true))\n",
        "\n",
        "    mu += 0.02\n",
        "    sigma += 0.01"
      ]
    },
    {
      "cell_type": "code",
      "execution_count": 66,
      "metadata": {
        "colab": {
          "base_uri": "https://localhost:8080/",
          "height": 472
        },
        "id": "UC49Ja1jxXKx",
        "outputId": "9e3b64fe-f8e3-4637-e287-3baa083fb40a"
      },
      "outputs": [
        {
          "data": {
            "image/png": "[encoded data removed]",
            "text/plain": [
              "<Figure size 640x480 with 1 Axes>"
            ]
          },
          "metadata": {},
          "output_type": "display_data"
        }
      ],
      "source": [
        "#  iteration-wise progress\n",
        "plt.plot(range(100), forward_kl_divergence, label='Forward KL')\n",
        "plt.plot(range(100), reverse_kl_divergence, label='Reverse KL')\n",
        "plt.xlabel('Iteration')\n",
        "plt.ylabel('KL Divergence')\n",
        "plt.title('Iteration-wise Progress')\n",
        "plt.legend()\n",
        "plt.show()"
      ]
    },
    {
      "attachments": {},
      "cell_type": "markdown",
      "metadata": {
        "id": "z4EfV2aA1Erd"
      },
      "source": [
        "1)Forward KL displays the difference between the true distribution and an approximated distribution. It defines the amount of additional information required to represent the true distribution using the approximated distribution. In this, the peaks are overestimated.  \n",
        "2)Reverse KL displays the difference between the approximated distribution  and the true distribution. It defines the amount of information lost when using approximated distribution to represent the true one. Here the peaks are underestimated."
      ]
    }
  ],
  "metadata": {
    "colab": {
      "provenance": []
    },
    "kernelspec": {
      "display_name": "Python 3",
      "name": "python3"
    },
    "language_info": {
      "name": "python"
    }
  },
  "nbformat": 4,
  "nbformat_minor": 0
}
